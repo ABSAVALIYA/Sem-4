{
 "cells": [
  {
   "cell_type": "markdown",
   "metadata": {},
   "source": [
    "<a href='https://www.darshan.ac.in/'> <img src='https://www.darshan.ac.in/Content/media/DU_Logo.svg' width=\"250\" height=\"300\"/></a>\n",
    "<pre>\n",
    "<center><b><h1>Python Programming - 2301CS404</b></center>\n",
    "<center><b><h1>Lab - 8</b></center>    \n",
    "<pre>"
   ]
  },
  {
   "cell_type": "markdown",
   "metadata": {},
   "source": [
    "Dhairya Bhatt 23010101023"
   ]
  },
  {
   "cell_type": "markdown",
   "metadata": {},
   "source": [
    "# User Defined Function"
   ]
  },
  {
   "cell_type": "markdown",
   "metadata": {},
   "source": [
    "### 01) Write a function to calculate BMI given mass and height. (BMI = mass/h**2)"
   ]
  },
  {
   "cell_type": "code",
   "execution_count": 1,
   "metadata": {},
   "outputs": [
    {
     "name": "stdout",
     "output_type": "stream",
     "text": [
      "BMI is 0.0018365472910927456\n"
     ]
    }
   ],
   "source": [
    "def bmi(mass, h):\n",
    "    return mass/(h**2)\n",
    "\n",
    "print('BMI is', bmi(50, 165))"
   ]
  },
  {
   "cell_type": "markdown",
   "metadata": {},
   "source": [
    "### 02) Write a function that add first n numbers."
   ]
  },
  {
   "cell_type": "code",
   "execution_count": 4,
   "metadata": {},
   "outputs": [
    {
     "name": "stdout",
     "output_type": "stream",
     "text": [
      "Sum of first 5 numbers is 15\n"
     ]
    }
   ],
   "source": [
    "def add_n_numbers(n):\n",
    "    return sum(i for i in range(1,n+1))\n",
    "\n",
    "print('Sum of first 5 numbers is', add_n_numbers(5))"
   ]
  },
  {
   "cell_type": "markdown",
   "metadata": {},
   "source": [
    "### 03) Write a function that returns 1 if the given number is Prime or 0 otherwise."
   ]
  },
  {
   "cell_type": "code",
   "execution_count": 4,
   "metadata": {},
   "outputs": [
    {
     "name": "stdout",
     "output_type": "stream",
     "text": [
      "0\n"
     ]
    }
   ],
   "source": [
    "import math\n",
    "def prime(n):\n",
    "    for i in range(2,int(math.sqrt(n))+1):\n",
    "        if n%i == 0:\n",
    "            return 0\n",
    "    return 1\n",
    "\n",
    "print(prime(14))"
   ]
  },
  {
   "cell_type": "markdown",
   "metadata": {},
   "source": [
    "### 04) Write a function that returns the list of Prime numbers between given two numbers."
   ]
  },
  {
   "cell_type": "code",
   "execution_count": 2,
   "metadata": {},
   "outputs": [
    {
     "name": "stdout",
     "output_type": "stream",
     "text": [
      "[11, 13, 17, 19, 23, 29]\n"
     ]
    }
   ],
   "source": [
    "import math\n",
    "def prime(n):\n",
    "    for i in range(2,int(math.sqrt(n))+1):\n",
    "        if n%i == 0:\n",
    "            return 0\n",
    "    return 1\n",
    "\n",
    "def list_of_prime(n, m):\n",
    "    l1 = []\n",
    "    for i in range(n, m+1):\n",
    "        if prime(i) == 1:\n",
    "            l1.append(i)\n",
    "    return l1\n",
    "\n",
    "print(list_of_prime(10, 30))"
   ]
  },
  {
   "cell_type": "markdown",
   "metadata": {},
   "source": [
    "### 05) Write a function that returns True if the given string is Palindrome or False otherwise."
   ]
  },
  {
   "cell_type": "code",
   "execution_count": 3,
   "metadata": {},
   "outputs": [
    {
     "name": "stdout",
     "output_type": "stream",
     "text": [
      "True\n"
     ]
    }
   ],
   "source": [
    "def isPalindrome(s):\n",
    "    return s == s[::-1]\n",
    "\n",
    "print(isPalindrome('lol'))"
   ]
  },
  {
   "cell_type": "markdown",
   "metadata": {},
   "source": [
    "### 06) Write a function that returns the sum of all the elements of the list."
   ]
  },
  {
   "cell_type": "code",
   "execution_count": 4,
   "metadata": {},
   "outputs": [
    {
     "name": "stdout",
     "output_type": "stream",
     "text": [
      "15\n"
     ]
    }
   ],
   "source": [
    "def sum_of_elements(l):\n",
    "    return sum(l)\n",
    "\n",
    "print(sum_of_elements([1, 2, 3, 4, 5]))"
   ]
  },
  {
   "cell_type": "markdown",
   "metadata": {},
   "source": [
    "### 07) Write a function to calculate the sum of the first element of each tuples inside the list."
   ]
  },
  {
   "cell_type": "code",
   "execution_count": 5,
   "metadata": {},
   "outputs": [
    {
     "name": "stdout",
     "output_type": "stream",
     "text": [
      "12\n"
     ]
    }
   ],
   "source": [
    "def sum_of_first_element(l):\n",
    "    return sum(t[0] for t in l)\n",
    "\n",
    "print(sum_of_first_element([(1, 2, 3), (4, 5, 6), (7, 8, 9)]))"
   ]
  },
  {
   "cell_type": "markdown",
   "metadata": {},
   "source": [
    "### 08) Write a recursive function to find nth term of Fibonacci Series."
   ]
  },
  {
   "cell_type": "code",
   "execution_count": 11,
   "metadata": {},
   "outputs": [
    {
     "name": "stdout",
     "output_type": "stream",
     "text": [
      "5\n"
     ]
    }
   ],
   "source": [
    "def find_nth_term(n):\n",
    "    if n == 0:\n",
    "        return 0\n",
    "    elif n == 1:\n",
    "        return 1\n",
    "    else:\n",
    "        return find_nth_term(n-1) + find_nth_term(n-2)\n",
    "\n",
    "print(find_nth_term(5))"
   ]
  },
  {
   "cell_type": "markdown",
   "metadata": {},
   "source": [
    "### 09) Write a function to get the name of the student based on the given rollno.\n",
    "#### Example: Given dict1 = {101:'Ajay', 102:'Rahul', 103:'Jay', 104:'Pooja'} find name of student whose rollno = 103"
   ]
  },
  {
   "cell_type": "code",
   "execution_count": 17,
   "metadata": {},
   "outputs": [
    {
     "name": "stdout",
     "output_type": "stream",
     "text": [
      "Rahul\n"
     ]
    }
   ],
   "source": [
    "def find_name(rollno):\n",
    "    return dict1[rollno]\n",
    "\n",
    "dict1 = {101:'Ajay', 102:'Rahul', 103:'Jay', 104:'Pooja'}\n",
    "print(find_name(102))"
   ]
  },
  {
   "cell_type": "markdown",
   "metadata": {},
   "source": [
    "### 10) Write a function to get the sum of the scores ending with zero.\n",
    "#### Example : scores = [200, 456, 300, 100, 234, 678] \n",
    "#### Ans = 200 + 300 + 100 = 600"
   ]
  },
  {
   "cell_type": "code",
   "execution_count": 15,
   "metadata": {},
   "outputs": [
    {
     "name": "stdout",
     "output_type": "stream",
     "text": [
      "600\n"
     ]
    }
   ],
   "source": [
    "def sum_ending_with_zero(scores):\n",
    "    return sum(i for i in scores if i%10==0)\n",
    "\n",
    "scores = [200, 456, 300, 100, 234, 678]\n",
    "print(sum_ending_with_zero(scores))"
   ]
  },
  {
   "cell_type": "markdown",
   "metadata": {},
   "source": [
    "### 11) Write a function to invert a given Dictionary.\n",
    "#### hint: keys to values & values to keys\n",
    "#### Before : {'a': 10, 'b':20, 'c':30, 'd':40}\n",
    "#### After : {10:'a', 20:'b', 30:'c', 40:'d'}"
   ]
  },
  {
   "cell_type": "code",
   "execution_count": 4,
   "metadata": {},
   "outputs": [
    {
     "name": "stdout",
     "output_type": "stream",
     "text": [
      "{10: 'a', 20: 'b', 30: 'c', 40: 'd'}\n"
     ]
    }
   ],
   "source": [
    "def invert_dict(dict1):\n",
    "    key_list = dict1.keys()\n",
    "    dict2 = dict()\n",
    "    for i in key_list:\n",
    "        dict2[dict1.get(i)] = i\n",
    "    return dict2\n",
    "\n",
    "dict1 = {'a': 10, 'b':20, 'c':30, 'd':40}\n",
    "dict2 = invert_dict(dict1)\n",
    "print(dict2)"
   ]
  },
  {
   "cell_type": "markdown",
   "metadata": {},
   "source": [
    "### 12) Write a function to check whether the given string is Pangram or not.\n",
    "#### hint: Pangram is a string containing all the characters a-z atlest once.\n",
    "#### \"the quick brown fox jumps over the lazy dog\" is a Pangram string."
   ]
  },
  {
   "cell_type": "code",
   "execution_count": 8,
   "metadata": {},
   "outputs": [
    {
     "name": "stdout",
     "output_type": "stream",
     "text": [
      "True\n"
     ]
    }
   ],
   "source": [
    "def isPanagram(s):\n",
    "    temp = 'abcdefghijklmnopqrstuvwxyz'\n",
    "    for i in s:\n",
    "        if i.isalpha():\n",
    "            if i not in temp:\n",
    "                return False\n",
    "    return True\n",
    "\n",
    "s = \"the quick brown fox jumps over the lazy dog\"\n",
    "print(isPanagram(s.lower()))"
   ]
  },
  {
   "cell_type": "markdown",
   "metadata": {},
   "source": [
    "### 13) Write a function that returns the number of uppercase and lowercase letters in the given string. \n",
    "#### example : Input : s1 = AbcDEfgh ,Ouptput : no_upper = 3, no_lower = 5"
   ]
  },
  {
   "cell_type": "code",
   "execution_count": 10,
   "metadata": {},
   "outputs": [
    {
     "name": "stdout",
     "output_type": "stream",
     "text": [
      "Upper = 3 , Lower = 5\n"
     ]
    }
   ],
   "source": [
    "def case_count(s):\n",
    "    no_upper, no_lower = 0, 0\n",
    "    for i in s:\n",
    "        if i.islower():\n",
    "            no_lower += 1\n",
    "        elif i.isupper():\n",
    "            no_upper += 1\n",
    "    return no_upper, no_lower\n",
    "\n",
    "s1 = 'AbcDEfgh'\n",
    "no_upper, no_lower = case_count(s1)\n",
    "print('Upper =', no_upper, ', Lower =', no_lower)"
   ]
  },
  {
   "cell_type": "markdown",
   "metadata": {},
   "source": [
    "### 14) Write a lambda function to get smallest number from the given two numbers."
   ]
  },
  {
   "cell_type": "code",
   "execution_count": 18,
   "metadata": {},
   "outputs": [
    {
     "name": "stdout",
     "output_type": "stream",
     "text": [
      "Smallest number is 10\n"
     ]
    }
   ],
   "source": [
    "n, m = 10, 20\n",
    "minimum = lambda n, m: min(n, m)\n",
    "print('Smallest number is', minimum(n, m))"
   ]
  },
  {
   "cell_type": "markdown",
   "metadata": {},
   "source": [
    "### 15) For the given list of names of students, extract the names having more that 7 characters. Use filter()."
   ]
  },
  {
   "cell_type": "code",
   "execution_count": 24,
   "metadata": {},
   "outputs": [
    {
     "name": "stdout",
     "output_type": "stream",
     "text": [
      "['Dhairya', 'Pruthvi', 'Viraj', 'Meet']\n"
     ]
    }
   ],
   "source": [
    "def extract_names(i):\n",
    "    return len(i) <= 7\n",
    "\n",
    "l = ['Dhairya', 'Pruthvi', 'Viraj', 'Meet', 'ViratKohli']\n",
    "l = list(filter(extract_names, l))\n",
    "print(l)"
   ]
  },
  {
   "cell_type": "markdown",
   "metadata": {},
   "source": [
    "### 16) For the given list of names of students, convert the first letter of all the names into uppercase. use map()."
   ]
  },
  {
   "cell_type": "code",
   "execution_count": 29,
   "metadata": {},
   "outputs": [
    {
     "name": "stdout",
     "output_type": "stream",
     "text": [
      "['Dhairya', 'Pruhvi', 'Viraj']\n"
     ]
    }
   ],
   "source": [
    "l = ['dhairya', 'Pruhvi', 'viraj']\n",
    "l = list(map(lambda i: i.capitalize(), l))\n",
    "print(l)"
   ]
  },
  {
   "cell_type": "markdown",
   "metadata": {},
   "source": [
    "### 17) Write udfs to call the functions with following types of arguments:\n",
    "1. Positional Arguments\n",
    "2. Keyword Arguments\n",
    "3. Default Arguments\n",
    "4. Variable Legngth Positional(*args) & variable length Keyword Arguments (**kwargs)\n",
    "5. Keyword-Only & Positional Only Arguments"
   ]
  },
  {
   "cell_type": "code",
   "execution_count": null,
   "metadata": {},
   "outputs": [],
   "source": [
    "# Positional Arguments\n",
    "# Arguments are passed in the order they are defined.\n",
    "def positional_args(a, b):\n",
    "    print(f\"Positional Arguments: a={a}, b={b}\")\n",
    "\n",
    "positional_args(10, 20)\n",
    "\n",
    "# Keyword Arguments\n",
    "# Arguments are passed using their parameter names.\n",
    "def keyword_args(a, b):\n",
    "    print(f\"Keyword Arguments: a={a}, b={b}\")\n",
    "\n",
    "keyword_args(a=10, b=20)\n",
    "\n",
    "# Default Arguments\n",
    "# Arguments have default values if not provided by the caller.\n",
    "def default_args(a, b=30):\n",
    "    print(f\"Default Arguments: a={a}, b={b}\")\n",
    "\n",
    "default_args(10)  # Uses default value for b\n",
    "default_args(10, 50)  # Overrides default value of b\n",
    "\n",
    "# Variable Length Positional Arguments (*args)\n",
    "# Function accepts any number of positional arguments.\n",
    "def var_positional_args(*args):\n",
    "    print(f\"Variable Length Positional Arguments: {args}\")\n",
    "\n",
    "var_positional_args(1, 2, 3, 4, 5)\n",
    "\n",
    "# Variable Length Keyword Arguments (**kwargs)\n",
    "# Function accepts any number of keyword arguments.\n",
    "def var_keyword_args(**kwargs):\n",
    "    print(f\"Variable Length Keyword Arguments: {kwargs}\")\n",
    "\n",
    "var_keyword_args(name=\"Alice\", age=25, country=\"USA\")\n",
    "\n",
    "# Keyword-Only Arguments\n",
    "# Arguments after * must be passed as keyword arguments.\n",
    "def keyword_only(a, *, b, c):\n",
    "    print(f\"Keyword-Only Arguments: a={a}, b={b}, c={c}\")\n",
    "\n",
    "keyword_only(10, b=20, c=30)  # Must use keywords for b and c\n",
    "\n",
    "# Positional-Only Arguments\n",
    "# Arguments before / must be passed as positional arguments.\n",
    "def positional_only(a, b, /, c, d):\n",
    "    print(f\"Positional-Only Arguments: a={a}, b={b}, c={c}, d={d}\")\n",
    "\n",
    "positional_only(10, 20, c=30, d=40)  # a and b must be positional\n"
   ]
  }
 ],
 "metadata": {
  "kernelspec": {
   "display_name": "Python 3 (ipykernel)",
   "language": "python",
   "name": "python3"
  },
  "language_info": {
   "codemirror_mode": {
    "name": "ipython",
    "version": 3
   },
   "file_extension": ".py",
   "mimetype": "text/x-python",
   "name": "python",
   "nbconvert_exporter": "python",
   "pygments_lexer": "ipython3",
   "version": "3.13.1"
  },
  "widgets": {
   "application/vnd.jupyter.widget-state+json": {
    "state": {},
    "version_major": 2,
    "version_minor": 0
   }
  }
 },
 "nbformat": 4,
 "nbformat_minor": 4
}
