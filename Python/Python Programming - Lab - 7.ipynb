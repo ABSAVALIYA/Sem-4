{
 "cells": [
  {
   "cell_type": "markdown",
   "metadata": {},
   "source": [
    "<a href='https://www.darshan.ac.in/'> <img src='https://www.darshan.ac.in/Content/media/DU_Logo.svg' width=\"250\" height=\"300\"/></a>\n",
    "<pre>\n",
    "<center><b><h1>Python Programming - 2301CS404</b></center>\n",
    "<center><b><h1>Lab - 7</b></center>    \n",
    "<pre>"
   ]
  },
  {
   "cell_type": "markdown",
   "metadata": {},
   "source": [
    "# Set & Dictionary"
   ]
  },
  {
   "cell_type": "markdown",
   "metadata": {},
   "source": [
    "### 01) WAP to iterate over a set."
   ]
  },
  {
   "cell_type": "code",
   "execution_count": 1,
   "metadata": {},
   "outputs": [
    {
     "name": "stdout",
     "output_type": "stream",
     "text": [
      "Elements in the set are: \n",
      "1, 2, 3, 4, 5, "
     ]
    }
   ],
   "source": [
    "s1 = {1, 2, 3, 4, 5}\n",
    "print('Elements in the set are: ')\n",
    "for i in s1:\n",
    "    print(i, end=', ')"
   ]
  },
  {
   "cell_type": "markdown",
   "metadata": {},
   "source": [
    "### 02) WAP to convert set into list, string and tuple."
   ]
  },
  {
   "cell_type": "code",
   "execution_count": 7,
   "metadata": {},
   "outputs": [
    {
     "name": "stdout",
     "output_type": "stream",
     "text": [
      "<class 'str'>\n",
      "[1, 2, 3, 4, 5], (1, 2, 3, 4, 5), {1, 2, 3, 4, 5}\n"
     ]
    }
   ],
   "source": [
    "s1 = {1, 2, 3, 4, 5}\n",
    "lt = list(s1)\n",
    "tp = tuple(s1)\n",
    "s = str(s1)\n",
    "print(lt, tp, s, sep=', ')"
   ]
  },
  {
   "cell_type": "markdown",
   "metadata": {},
   "source": [
    "### 03) WAP to find Maximum and Minimum from a set."
   ]
  },
  {
   "cell_type": "code",
   "execution_count": 10,
   "metadata": {},
   "outputs": [
    {
     "name": "stdout",
     "output_type": "stream",
     "text": [
      "Max element is 5\n",
      "Min element is 1\n"
     ]
    }
   ],
   "source": [
    "s1 = {1, 2, 3, 4, 5}\n",
    "maximum = max(s1)\n",
    "minimum = min(s1)\n",
    "print('Max element is', maximum)\n",
    "print('Min element is', minimum)"
   ]
  },
  {
   "cell_type": "markdown",
   "metadata": {},
   "source": [
    "### 04) WAP to perform union of two sets."
   ]
  },
  {
   "cell_type": "code",
   "execution_count": 12,
   "metadata": {},
   "outputs": [
    {
     "name": "stdout",
     "output_type": "stream",
     "text": [
      "{1, 2, 3, 4, 5, 6, 7, 8, 9, 10}\n",
      "{1, 2, 3, 4, 5, 6, 7, 8, 9, 10}\n"
     ]
    }
   ],
   "source": [
    "s1 = {1, 2, 3, 4, 5}\n",
    "s2 = {4, 5, 6, 7, 8, 9, 10}\n",
    "print(s1.union(s2))\n",
    "#or\n",
    "print(s1 | s2)"
   ]
  },
  {
   "cell_type": "markdown",
   "metadata": {},
   "source": [
    "### 05) WAP to check if two lists have at-least one element common."
   ]
  },
  {
   "cell_type": "code",
   "execution_count": 15,
   "metadata": {},
   "outputs": [
    {
     "name": "stdout",
     "output_type": "stream",
     "text": [
      "Two lists does not have any element common\n"
     ]
    }
   ],
   "source": [
    "l1 = [1, 2, 3, 4, 5]\n",
    "l2 = [5, 6, 7, 8, 9, 10]\n",
    "s1 = set(l1)\n",
    "s2 = set(l2)\n",
    "if(s1 & s2):\n",
    "    print('Two lists have at least one element common')\n",
    "else:\n",
    "    print('Two lists does not have any element common')"
   ]
  },
  {
   "cell_type": "markdown",
   "metadata": {},
   "source": [
    "### 06) WAP to remove duplicates from list."
   ]
  },
  {
   "cell_type": "code",
   "execution_count": 16,
   "metadata": {},
   "outputs": [
    {
     "name": "stdout",
     "output_type": "stream",
     "text": [
      "List with duplicate elements: [1, 2, 3, 4, 5, 1, 2, 3, 5]\n",
      "List without duplicate elements: [1, 2, 3, 4, 5]\n"
     ]
    }
   ],
   "source": [
    "l1 = [1, 2, 3, 4, 5, 1, 2, 3, 5]\n",
    "print('List with duplicate elements:', l1)\n",
    "l1 = list(set(l1))\n",
    "print('List without duplicate elements:', l1)"
   ]
  },
  {
   "cell_type": "markdown",
   "metadata": {},
   "source": [
    "### 07) WAP to find unique words in the given string."
   ]
  },
  {
   "cell_type": "code",
   "execution_count": 34,
   "metadata": {},
   "outputs": [
    {
     "name": "stdout",
     "output_type": "stream",
     "text": [
      "Unique elements in the string are: \n",
      "hello, everyone, are, "
     ]
    }
   ],
   "source": [
    "s = 'Hi hello how are you hi everyone how do you do'\n",
    "print('Unique elements in the string are: ')\n",
    "for i in set(s.lower().split()):\n",
    "    if(s.lower().count(i) == 1):\n",
    "        print(i, end=', ')"
   ]
  },
  {
   "cell_type": "markdown",
   "metadata": {},
   "source": [
    "### 08) WAP to remove common elements of set A & B from set A."
   ]
  },
  {
   "cell_type": "code",
   "execution_count": 35,
   "metadata": {},
   "outputs": [
    {
     "name": "stdout",
     "output_type": "stream",
     "text": [
      "{1, 2, 3}\n"
     ]
    }
   ],
   "source": [
    "A = {1, 2, 3, 4, 5}\n",
    "B = {4, 5, 6, 7, 8}\n",
    "A = A - B\n",
    "print(A)"
   ]
  },
  {
   "cell_type": "markdown",
   "metadata": {},
   "source": [
    "### 09) WAP to check whether two given strings are anagram or not using set."
   ]
  },
  {
   "cell_type": "code",
   "execution_count": 41,
   "metadata": {},
   "outputs": [
    {
     "name": "stdout",
     "output_type": "stream",
     "text": [
      "Not anagram\n"
     ]
    }
   ],
   "source": [
    "s1 = 'bba'\n",
    "s2 = 'aab'\n",
    "if(len(s1) != len(s2)):\n",
    "    print('Not anagram')\n",
    "else:\n",
    "    for i in set(s1):\n",
    "        if(s1.count(i) != s2.count(i)):\n",
    "            print('Not anagram')\n",
    "            break\n",
    "    else:\n",
    "        print('Anagram')"
   ]
  },
  {
   "cell_type": "markdown",
   "metadata": {},
   "source": [
    "### 10) WAP to find common elements in three lists using set."
   ]
  },
  {
   "cell_type": "code",
   "execution_count": 48,
   "metadata": {},
   "outputs": [
    {
     "name": "stdout",
     "output_type": "stream",
     "text": [
      "Common elements in three lists are: \n",
      "{5}\n"
     ]
    }
   ],
   "source": [
    "A = [1, 2, 3, 4, 5]\n",
    "B = [3, 4, 5, 6, 7]\n",
    "C = [5, 6, 7, 8, 9]\n",
    "print('Common elements in three lists are: ')\n",
    "print(set(A) & set(B) & set(C))"
   ]
  },
  {
   "cell_type": "markdown",
   "metadata": {},
   "source": [
    "### 11) WAP to count number of vowels in given string using set."
   ]
  },
  {
   "cell_type": "code",
   "execution_count": 46,
   "metadata": {},
   "outputs": [
    {
     "name": "stdout",
     "output_type": "stream",
     "text": [
      "Number of vowels in given string are 8\n"
     ]
    }
   ],
   "source": [
    "s = 'Hi hello how are you'\n",
    "count = 0\n",
    "for i in set(s.lower()):\n",
    "    if(i in 'aeiou'):\n",
    "        count += s.count(i)\n",
    "print('Number of vowels in given string are', count)"
   ]
  },
  {
   "cell_type": "markdown",
   "metadata": {},
   "source": [
    "### 12) WAP to check if a given string is binary string or not."
   ]
  },
  {
   "cell_type": "code",
   "execution_count": 51,
   "metadata": {},
   "outputs": [
    {
     "name": "stdout",
     "output_type": "stream",
     "text": [
      "Not binary string\n"
     ]
    }
   ],
   "source": [
    "s = '1011'\n",
    "s1 = set(s)\n",
    "if(len(s1) > 2):\n",
    "    print('Not binary string')\n",
    "else:\n",
    "    if('0' in s1 and '1' in s1):\n",
    "        print('Binary string')\n",
    "    else:\n",
    "        print('Not binary string')"
   ]
  },
  {
   "cell_type": "markdown",
   "metadata": {},
   "source": [
    "### 13) WAP to sort dictionary by key or value."
   ]
  },
  {
   "cell_type": "code",
   "execution_count": 55,
   "metadata": {},
   "outputs": [
    {
     "name": "stdout",
     "output_type": "stream",
     "text": [
      "Dictionary before sorting: \n",
      "{'a': 1, 'b': 3, 'd': 8, 'u': 10, 'p': 4, 'c': 7}\n",
      "Sorted dictionary: \n",
      "{'a': 1, 'b': 3, 'c': 7, 'd': 8, 'p': 4, 'u': 10}\n"
     ]
    }
   ],
   "source": [
    "d1 = {'a':1, 'b':3, 'd':8, 'u':10, 'p':4, 'c':7}\n",
    "print('Dictionary before sorting: ')\n",
    "print(d1)\n",
    "myKeys = list(d1.keys())\n",
    "myKeys.sort()\n",
    "d2 = {i:d1[i] for i in myKeys}\n",
    "print('Sorted dictionary: ')\n",
    "print(d2)"
   ]
  },
  {
   "cell_type": "markdown",
   "metadata": {},
   "source": [
    "### 14) WAP to find the sum of all items (values) in a dictionary given by user. (Assume: values are numeric)"
   ]
  },
  {
   "cell_type": "code",
   "execution_count": 58,
   "metadata": {},
   "outputs": [
    {
     "name": "stdout",
     "output_type": "stream",
     "text": [
      "Enter the size of dictionary: 6\n",
      "Enter key: a\n",
      "Enter corresponding value: 1\n",
      "Enter key: b\n",
      "Enter corresponding value: 3\n",
      "Enter key: c\n",
      "Enter corresponding value: 7\n",
      "Enter key: d\n",
      "Enter corresponding value: 8\n",
      "Enter key: e\n",
      "Enter corresponding value: 4\n",
      "Enter key: f\n",
      "Enter corresponding value: 10\n",
      "Sum of all values is 33\n"
     ]
    }
   ],
   "source": [
    "n = int(input('Enter the size of dictionary: '))\n",
    "d1 = dict()\n",
    "for i in range (1,n+1):\n",
    "    key = input('Enter key: ')\n",
    "    value = int(input('Enter corresponding value: '))\n",
    "    d1[key] = value\n",
    "print('Sum of all values is', sum(d1.values()))"
   ]
  },
  {
   "cell_type": "markdown",
   "metadata": {},
   "source": [
    "### 15) WAP to handle missing keys in dictionaries.\n",
    "#### Example : Given, dict1 = {'a': 5, 'c': 8, 'e': 2} \n",
    "#### if you look for key = 'd', the message given should be 'Key Not Found', otherwise print the value of 'd' in dict1."
   ]
  },
  {
   "cell_type": "code",
   "execution_count": 60,
   "metadata": {},
   "outputs": [
    {
     "name": "stdout",
     "output_type": "stream",
     "text": [
      "Enter the key to search: d\n",
      "Key Not Found\n"
     ]
    }
   ],
   "source": [
    "dict1 = {'a':5, 'c':8, 'e':2}\n",
    "key = input('Enter the key to search: ')\n",
    "if(key in dict1.keys()):\n",
    "    print(dict1[key])\n",
    "else:\n",
    "    print('Key Not Found')"
   ]
  }
 ],
 "metadata": {
  "kernelspec": {
   "display_name": "Python 3 (ipykernel)",
   "language": "python",
   "name": "python3"
  },
  "language_info": {
   "codemirror_mode": {
    "name": "ipython",
    "version": 3
   },
   "file_extension": ".py",
   "mimetype": "text/x-python",
   "name": "python",
   "nbconvert_exporter": "python",
   "pygments_lexer": "ipython3",
   "version": "3.10.9"
  }
 },
 "nbformat": 4,
 "nbformat_minor": 4
}
